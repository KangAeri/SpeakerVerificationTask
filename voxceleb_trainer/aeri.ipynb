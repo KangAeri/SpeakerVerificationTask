{
 "cells": [
  {
   "cell_type": "code",
   "execution_count": 6,
   "metadata": {},
   "outputs": [],
   "source": [
    "with open('data/train_list_iden.txt','w') as wf:\n",
    "    outputs = list()\n",
    "    with open(\"data/train_list.txt\", 'r') as f:\n",
    "        for line in f:\n",
    "            _, path, _ = line.split()\n",
    "            speaker_id = path.split('/')[0]\n",
    "            outputs.append(' '.join([speaker_id, path]))\n",
    "    outputs = list(set(outputs))\n",
    "    for line in outputs:\n",
    "        wf.write(line+'\\n')"
   ]
  },
  {
   "cell_type": "code",
   "execution_count": null,
   "metadata": {},
   "outputs": [],
   "source": []
  }
 ],
 "metadata": {
  "kernelspec": {
   "display_name": "base",
   "language": "python",
   "name": "python3"
  },
  "language_info": {
   "codemirror_mode": {
    "name": "ipython",
    "version": 3
   },
   "file_extension": ".py",
   "mimetype": "text/x-python",
   "name": "python",
   "nbconvert_exporter": "python",
   "pygments_lexer": "ipython3",
   "version": "3.9.13"
  },
  "orig_nbformat": 4,
  "vscode": {
   "interpreter": {
    "hash": "df9a5b10f28c24376c40e9a25a520b5594ccec74d7ec18851373c33846d1e9b6"
   }
  }
 },
 "nbformat": 4,
 "nbformat_minor": 2
}
